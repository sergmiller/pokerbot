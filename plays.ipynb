{
 "cells": [
  {
   "cell_type": "code",
   "execution_count": 1,
   "metadata": {},
   "outputs": [],
   "source": [
    "from pypokerengine.api.game import setup_config, start_poker\n",
    "from pypokerengine.players import BasePokerPlayer\n",
    "from baseline_players import RandomPlayer\n",
    "from bots.honest_player import HonestPlayer\n",
    "# from baseline_players import HonestPlayer\n",
    "from bots.fish_player import FishPlayer\n",
    "from bots.fold_player import FoldPlayer\n",
    "import pandas as pd\n",
    "import numpy as np\n",
    "import matplotlib.pyplot as plt\n",
    "from tqdm import tqdm\n",
    "%matplotlib inline"
   ]
  },
  {
   "cell_type": "code",
   "execution_count": 2,
   "metadata": {},
   "outputs": [],
   "source": [
    "N_RANDOM_PLAYERS = 6\n",
    "\n",
    "config = setup_config(max_round=50, initial_stack=1500, small_blind_amount=15)\n",
    "config.register_player(name=\"fishman\", algorithm=FishPlayer())\n",
    "config.register_player(name=\"foldman\", algorithm=FoldPlayer())\n",
    "config.register_player(name=\"honest\", algorithm=HonestPlayer(150))\n",
    "for i in range(N_RANDOM_PLAYERS):\n",
    "    config.register_player(name=\"random\" + str(i), algorithm=RandomPlayer())"
   ]
  },
  {
   "cell_type": "code",
   "execution_count": 7,
   "metadata": {},
   "outputs": [
    {
     "name": "stderr",
     "output_type": "stream",
     "text": [
      "100%|██████████| 30/30 [02:11<00:00,  3.70s/it]"
     ]
    },
    {
     "name": "stdout",
     "output_type": "stream",
     "text": [
      "CPU times: user 2min 8s, sys: 1.63 s, total: 2min 10s\n",
      "Wall time: 2min 11s\n"
     ]
    },
    {
     "name": "stderr",
     "output_type": "stream",
     "text": [
      "\n"
     ]
    }
   ],
   "source": [
    "%%time\n",
    "\n",
    "def get_all_results(config, n_games=3):\n",
    "    players_stack_dict = {}\n",
    "    for player_info in config.players_info:\n",
    "        players_stack_dict[player_info['name']] = []\n",
    "        \n",
    "    for i in tqdm(range(n_games)):\n",
    "        for player_info in start_poker(config, verbose=0)['players']:\n",
    "            players_stack_dict[player_info['name']].append(player_info['stack'])\n",
    "            \n",
    "    return pd.DataFrame(players_stack_dict)\n",
    "\n",
    "res = get_all_results(config, n_games=30)\n",
    "#3.4s/it 5:40 - my\n",
    "#5.9s/it 9:59 - base"
   ]
  },
  {
   "cell_type": "code",
   "execution_count": 6,
   "metadata": {},
   "outputs": [
    {
     "data": {
      "text/html": [
       "<div>\n",
       "<style>\n",
       "    .dataframe thead tr:only-child th {\n",
       "        text-align: right;\n",
       "    }\n",
       "\n",
       "    .dataframe thead th {\n",
       "        text-align: left;\n",
       "    }\n",
       "\n",
       "    .dataframe tbody tr th {\n",
       "        vertical-align: top;\n",
       "    }\n",
       "</style>\n",
       "<table border=\"1\" class=\"dataframe\">\n",
       "  <thead>\n",
       "    <tr style=\"text-align: right;\">\n",
       "      <th></th>\n",
       "      <th>fishman</th>\n",
       "      <th>foldman</th>\n",
       "      <th>honest</th>\n",
       "      <th>random0</th>\n",
       "      <th>random1</th>\n",
       "      <th>random2</th>\n",
       "      <th>random3</th>\n",
       "      <th>random4</th>\n",
       "      <th>random5</th>\n",
       "    </tr>\n",
       "  </thead>\n",
       "  <tbody>\n",
       "    <tr>\n",
       "      <th>count</th>\n",
       "      <td>10.000000</td>\n",
       "      <td>10.00000</td>\n",
       "      <td>10.000000</td>\n",
       "      <td>10.0</td>\n",
       "      <td>10.000000</td>\n",
       "      <td>10.0</td>\n",
       "      <td>10.000000</td>\n",
       "      <td>10.000000</td>\n",
       "      <td>10.0</td>\n",
       "    </tr>\n",
       "    <tr>\n",
       "      <th>mean</th>\n",
       "      <td>8887.100000</td>\n",
       "      <td>723.00000</td>\n",
       "      <td>71.700000</td>\n",
       "      <td>0.0</td>\n",
       "      <td>1240.600000</td>\n",
       "      <td>0.0</td>\n",
       "      <td>1262.500000</td>\n",
       "      <td>1256.000000</td>\n",
       "      <td>0.0</td>\n",
       "    </tr>\n",
       "    <tr>\n",
       "      <th>std</th>\n",
       "      <td>6138.407529</td>\n",
       "      <td>187.32325</td>\n",
       "      <td>166.186007</td>\n",
       "      <td>0.0</td>\n",
       "      <td>3923.121665</td>\n",
       "      <td>0.0</td>\n",
       "      <td>3992.375546</td>\n",
       "      <td>3971.820741</td>\n",
       "      <td>0.0</td>\n",
       "    </tr>\n",
       "    <tr>\n",
       "      <th>min</th>\n",
       "      <td>0.000000</td>\n",
       "      <td>510.00000</td>\n",
       "      <td>0.000000</td>\n",
       "      <td>0.0</td>\n",
       "      <td>0.000000</td>\n",
       "      <td>0.0</td>\n",
       "      <td>0.000000</td>\n",
       "      <td>0.000000</td>\n",
       "      <td>0.0</td>\n",
       "    </tr>\n",
       "    <tr>\n",
       "      <th>25%</th>\n",
       "      <td>3028.000000</td>\n",
       "      <td>540.00000</td>\n",
       "      <td>0.000000</td>\n",
       "      <td>0.0</td>\n",
       "      <td>0.000000</td>\n",
       "      <td>0.0</td>\n",
       "      <td>0.000000</td>\n",
       "      <td>0.000000</td>\n",
       "      <td>0.0</td>\n",
       "    </tr>\n",
       "    <tr>\n",
       "      <th>50%</th>\n",
       "      <td>12553.500000</td>\n",
       "      <td>765.00000</td>\n",
       "      <td>0.000000</td>\n",
       "      <td>0.0</td>\n",
       "      <td>0.000000</td>\n",
       "      <td>0.0</td>\n",
       "      <td>0.000000</td>\n",
       "      <td>0.000000</td>\n",
       "      <td>0.0</td>\n",
       "    </tr>\n",
       "    <tr>\n",
       "      <th>75%</th>\n",
       "      <td>12897.750000</td>\n",
       "      <td>847.50000</td>\n",
       "      <td>0.000000</td>\n",
       "      <td>0.0</td>\n",
       "      <td>0.000000</td>\n",
       "      <td>0.0</td>\n",
       "      <td>0.000000</td>\n",
       "      <td>0.000000</td>\n",
       "      <td>0.0</td>\n",
       "    </tr>\n",
       "    <tr>\n",
       "      <th>max</th>\n",
       "      <td>12950.000000</td>\n",
       "      <td>1020.00000</td>\n",
       "      <td>505.000000</td>\n",
       "      <td>0.0</td>\n",
       "      <td>12406.000000</td>\n",
       "      <td>0.0</td>\n",
       "      <td>12625.000000</td>\n",
       "      <td>12560.000000</td>\n",
       "      <td>0.0</td>\n",
       "    </tr>\n",
       "  </tbody>\n",
       "</table>\n",
       "</div>"
      ],
      "text/plain": [
       "            fishman     foldman      honest  random0       random1  random2  \\\n",
       "count     10.000000    10.00000   10.000000     10.0     10.000000     10.0   \n",
       "mean    8887.100000   723.00000   71.700000      0.0   1240.600000      0.0   \n",
       "std     6138.407529   187.32325  166.186007      0.0   3923.121665      0.0   \n",
       "min        0.000000   510.00000    0.000000      0.0      0.000000      0.0   \n",
       "25%     3028.000000   540.00000    0.000000      0.0      0.000000      0.0   \n",
       "50%    12553.500000   765.00000    0.000000      0.0      0.000000      0.0   \n",
       "75%    12897.750000   847.50000    0.000000      0.0      0.000000      0.0   \n",
       "max    12950.000000  1020.00000  505.000000      0.0  12406.000000      0.0   \n",
       "\n",
       "            random3       random4  random5  \n",
       "count     10.000000     10.000000     10.0  \n",
       "mean    1262.500000   1256.000000      0.0  \n",
       "std     3992.375546   3971.820741      0.0  \n",
       "min        0.000000      0.000000      0.0  \n",
       "25%        0.000000      0.000000      0.0  \n",
       "50%        0.000000      0.000000      0.0  \n",
       "75%        0.000000      0.000000      0.0  \n",
       "max    12625.000000  12560.000000      0.0  "
      ]
     },
     "execution_count": 6,
     "metadata": {},
     "output_type": "execute_result"
    }
   ],
   "source": [
    "res.describe()"
   ]
  },
  {
   "cell_type": "code",
   "execution_count": 43,
   "metadata": {},
   "outputs": [
    {
     "name": "stdout",
     "output_type": "stream",
     "text": [
      "CPU times: user 35 ms, sys: 7.06 ms, total: 42.1 ms\n",
      "Wall time: 36.9 ms\n"
     ]
    },
    {
     "data": {
      "text/plain": [
       "array([[46, 50, 49, ...,  6, 10, 45],\n",
       "       [14, 41, 32, ..., 10,  9, 42],\n",
       "       [11, 20, 22, ..., 28, 12, 48],\n",
       "       ..., \n",
       "       [ 4, 20, 22, ..., 39, 52, 33],\n",
       "       [41, 20, 14, ...,  5, 45, 11],\n",
       "       [44,  3, 18, ..., 13, 50,  5]])"
      ]
     },
     "execution_count": 43,
     "metadata": {},
     "output_type": "execute_result"
    }
   ],
   "source": [
    "% time np.array([np.random.choice(52, 7, replace=False) for _ in range(1000)]) + 1"
   ]
  },
  {
   "cell_type": "code",
   "execution_count": null,
   "metadata": {
    "collapsed": true
   },
   "outputs": [],
   "source": []
  }
 ],
 "metadata": {
  "kernelspec": {
   "display_name": "Python 3",
   "language": "python",
   "name": "python3"
  },
  "language_info": {
   "codemirror_mode": {
    "name": "ipython",
    "version": 3
   },
   "file_extension": ".py",
   "mimetype": "text/x-python",
   "name": "python",
   "nbconvert_exporter": "python",
   "pygments_lexer": "ipython3",
   "version": "3.6.1"
  }
 },
 "nbformat": 4,
 "nbformat_minor": 1
}
