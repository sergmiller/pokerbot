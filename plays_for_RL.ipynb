{
 "cells": [
  {
   "cell_type": "code",
   "execution_count": 20,
   "metadata": {
    "collapsed": false
   },
   "outputs": [],
   "source": [
    "from copy import deepcopy\n",
    "import scipy.stats as sps\n",
    "import keras.backend as K\n",
    "import pandas as pd\n",
    "import numpy as np\n",
    "import matplotlib.pyplot as plt\n",
    "from bots.RLbot import RLPokerPlayer\n",
    "from tqdm import tqdm\n",
    "from pypokerengine.api.game import setup_config, start_poker\n",
    "from pypokerengine.utils.card_utils import gen_cards\n",
    "from pypokerengine.players import BasePokerPlayer\n",
    "from baseline_players import RandomPlayer\n",
    "from bots.honest_player import HonestPlayer\n",
    "from bots.honest_modified_player import HonestModifiedPlayer\n",
    "from bots.bot_denis_2 import BotDenisPlayer\n",
    "from bots.bot1 import KoffaPlayer\n",
    "from bots.bestbot import BestPlayer\n",
    "from bots.forl_condition_bot_2 import ConditionPlayer\n",
    "from bots.botDenis import GloomCha\n",
    "from bots.forl_condition_bot import HonestStatPlayer\n",
    "from bots.fish_player import FishPlayer\n",
    "from bots.fold_player import FoldPlayer\n",
    "from bots.bot_denis_3 import BotDenis3Player\n",
    "plt.style.use('ggplot')\n",
    "%matplotlib inline"
   ]
  },
  {
   "cell_type": "code",
   "execution_count": 2,
   "metadata": {
    "collapsed": true
   },
   "outputs": [],
   "source": [
    "from keras.models import Sequential\n",
    "from keras.layers import Dense\n",
    "from keras.wrappers.scikit_learn import KerasClassifier\n",
    "from keras.utils import np_utils\n",
    "from sklearn.model_selection import cross_val_score\n",
    "from sklearn.model_selection import KFold\n",
    "from sklearn.preprocessing import LabelEncoder\n",
    "from sklearn.pipeline import Pipeline"
   ]
  },
  {
   "cell_type": "code",
   "execution_count": 3,
   "metadata": {
    "collapsed": true
   },
   "outputs": [],
   "source": [
    "# N_RANDOM_PLAYERS = 0\n",
    "\n",
    "# config = setup_config(max_round=50, initial_stack=1500, small_blind_amount=15)\n",
    "# # config.register_player(name=\"foldman\", algorithm=FoldPlayer())\n",
    "# config.register_player(name=\"honest\", algorithm=HonestPlayer(200))\n",
    "# config.register_player(name=\"honest_modified\", algorithm=HonestModifiedPlayer(200))\n",
    "# config.register_player(name=\"fishman\", algorithm=FishPlayer())\n",
    "# config.register_player(name=\"botDenis1\", algorithm=GloomCha())\n",
    "# config.register_player(name=\"botDenis2\", algorithm=BotDenisPlayer())\n",
    "# config.register_player(name=\"conditionPlayer\", algorithm=ConditionPlayer())\n",
    "# config.register_player(name=\"koffa\", algorithm=KoffaPlayer())\n",
    "# config.register_player(name=\"botDenis3\", algorithm=BotDenis3Player())\n",
    "# config.register_player(name=\"random\", algorithm=RandomPlayer())\n",
    "\n",
    "# for i in range(N_RANDOM_PLAYERS):\n",
    "#     config.register_player(name=\"random\" + str(i), algorithm=RandomPlayer())"
   ]
  },
  {
   "cell_type": "code",
   "execution_count": 4,
   "metadata": {
    "collapsed": true,
    "scrolled": true
   },
   "outputs": [],
   "source": [
    "# %%time\n",
    "# from joblib import Parallel, delayed\n",
    "\n",
    "# def f(i,config):\n",
    "#     return start_poker(config, verbose=0)['players']\n",
    "\n",
    "# def get_all_results(config, n_games=1):\n",
    "#     players_stack_dict = {}\n",
    "#     for player_info in config.players_info:\n",
    "#         players_stack_dict[player_info['name']] = []\n",
    "        \n",
    "#     with Parallel(n_jobs=4) as parallel:\n",
    "# #     for i in tqdm(range(n_games)):\n",
    "#         data = parallel(delayed(f)(i, config) for i in range(n_games))\n",
    "    \n",
    "#     for i in tqdm(range(n_games)):\n",
    "#         for player_info in data[i]:\n",
    "#             players_stack_dict[player_info['name']].append(player_info['stack'])\n",
    "            \n",
    "#     return pd.DataFrame(players_stack_dict)\n",
    "\n",
    "# res = get_all_results(config, n_games=30)"
   ]
  },
  {
   "cell_type": "code",
   "execution_count": 7,
   "metadata": {
    "collapsed": true
   },
   "outputs": [],
   "source": [
    "import sys\n",
    "cur = sys.stdout\n",
    "sys.stdout = open('LOG_FILE', 'w')"
   ]
  },
  {
   "cell_type": "code",
   "execution_count": null,
   "metadata": {
    "collapsed": false,
    "scrolled": true
   },
   "outputs": [],
   "source": [
    "N = 500\n",
    "\n",
    "RLBotPark = []\n",
    "DefaultBotPark = [RandomPlayer(), HonestPlayer(), FishPlayer(), \n",
    "           BotDenisPlayer(), HonestModifiedPlayer(), ConditionPlayer(), \n",
    "           GloomCha(), KoffaPlayer(), HonestStatPlayer(), BestPlayer(),\n",
    "          ]\n",
    "\n",
    "rl_score = []\n",
    "\n",
    "mn = []\n",
    "\n",
    "\n",
    "for i in range(N):\n",
    "    in_model_file = None if i == 0 else 'model_{}.h5'.format(i)\n",
    "    out_model_file = 'model_{}.h5'.format(i + 1)\n",
    "    config = setup_config(max_round=50, initial_stack=1500, small_blind_amount=15)\n",
    "    humans = list(np.random.choice(DefaultBotPark, replace=True, size=4 + max(0, 4 - len(RLBotPark))))\n",
    "    rlbots = list(np.random.choice(RLBotPark, replace=True, size=min(4, len(RLBotPark)))) if len(RLBotPark) > 0 else []\n",
    "#     print(humans, rlbots)\n",
    "    players = humans + rlbots + [None]\n",
    "    np.random.shuffle(players)\n",
    "#     print(players)\n",
    "    j = 0\n",
    "    for player in players:\n",
    "        j += 1\n",
    "        if player is None:\n",
    "            RLP =  RLPokerPlayer(\n",
    "                study_mode=True,\n",
    "                model_file=in_model_file,\n",
    "                gammaReward=0.5,\n",
    "                alphaUpdateNet=0.1,\n",
    "                epsilonRandom=0.1,\n",
    "                decayRandom=0.95,\n",
    "                players=players,\n",
    "                max_history_len=1000,\n",
    "                new_model_file=out_model_file,\n",
    "            )\n",
    "            config.register_player(name='RL',algorithm=RLP)    \n",
    "        else:\n",
    "            config.register_player(name=str(player) + str(j), algorithm=player)\n",
    "    info = start_poker(config, verbose=0)\n",
    "    RLP.study_mode = False\n",
    "    res = []\n",
    "    for player_info in info['players']:\n",
    "        res.append((player_info['name'], player_info['stack']))\n",
    "    res = sorted(res, key=(lambda x:x[1]))\n",
    "    print(i, res)\n",
    "    for it in res:\n",
    "        if it[0] == 'RL':\n",
    "            mn.append(it[1])\n",
    "            break\n",
    "    print('mean res: {}'.format(np.mean(mn)))\n",
    "#     RLP.study_mode=False\n",
    "#     RLBotPark.append(\n",
    "#     RLPokerPlayer(\n",
    "#                 study_mode=False,\n",
    "#                 model_file=in_model_file,\n",
    "#                 gammaReward=0.5,\n",
    "#                 alphaUpdateNet=0.1,\n",
    "#                 epsilonRandom=0.1,\n",
    "#                 decayRandom=0.95,\n",
    "#                 players=players,\n",
    "#                 max_history_len=1000,\n",
    "#                 new_model_file=None,\n",
    "#             )\n",
    "#     )"
   ]
  },
  {
   "cell_type": "code",
   "execution_count": 16,
   "metadata": {
    "collapsed": true
   },
   "outputs": [],
   "source": [
    "mn = np.array(mn)"
   ]
  },
  {
   "cell_type": "code",
   "execution_count": 17,
   "metadata": {
    "collapsed": false
   },
   "outputs": [],
   "source": [
    "means = np.cumsum(mn)/(np.arange(len(mn)) + 1)\n",
    "means2 = np.cumsum(mn**2)/(np.arange(len(mn)) + 1)\n",
    "stds = (means2 - means**2) ** 0.5 "
   ]
  },
  {
   "cell_type": "code",
   "execution_count": 22,
   "metadata": {
    "collapsed": false
   },
   "outputs": [
    {
     "data": {
      "text/plain": [
       "[<matplotlib.lines.Line2D at 0x7f5d991d1ad0>]"
      ]
     },
     "execution_count": 22,
     "metadata": {},
     "output_type": "execute_result"
    },
    {
     "data": {
      "image/png": "[encoded data removed]",
      "text/plain": [
       "<matplotlib.figure.Figure at 0x7f5d992b5990>"
      ]
     },
     "metadata": {},
     "output_type": "display_data"
    }
   ],
   "source": [
    "plt.figure(figsize=(15,8))\n",
    "plt.plot(np.arange(len(mn)), means)\n",
    "# plt.plot(np.arange(len(mn)), means + stds)\n",
    "# plt.plot(np.arange(len(mn)), means - stds)"
   ]
  },
  {
   "cell_type": "code",
   "execution_count": null,
   "metadata": {
    "collapsed": true
   },
   "outputs": [],
   "source": []
  }
 ],
 "metadata": {
  "kernelspec": {
   "display_name": "Python 2",
   "language": "python",
   "name": "python2"
  },
  "language_info": {
   "codemirror_mode": {
    "name": "ipython",
    "version": 2
   },
   "file_extension": ".py",
   "mimetype": "text/x-python",
   "name": "python",
   "nbconvert_exporter": "python",
   "pygments_lexer": "ipython2",
   "version": "2.7.11"
  }
 },
 "nbformat": 4,
 "nbformat_minor": 1
}
