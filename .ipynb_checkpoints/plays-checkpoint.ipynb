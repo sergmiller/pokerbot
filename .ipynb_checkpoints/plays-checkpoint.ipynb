{
 "cells": [
  {
   "cell_type": "code",
   "execution_count": 1,
   "metadata": {},
   "outputs": [
    {
     "name": "stderr",
     "output_type": "stream",
     "text": [
      "Using TensorFlow backend.\n"
     ]
    }
   ],
   "source": [
    "from pypokerengine.api.game import setup_config, start_poker\n",
    "from pypokerengine.utils.card_utils import gen_cards\n",
    "from pypokerengine.players import BasePokerPlayer\n",
    "from baseline_players import RandomPlayer\n",
    "from bots.honest_player import HonestPlayer\n",
    "from bots.honest_modified_player import HonestModifiedPlayer\n",
    "from bots.RLbot import RLPokerPlayer\n",
    "from bots.bot_denis_2 import BotDenisPlayer\n",
    "from bots.bot1 import KoffaPlayer\n",
    "from bots.forl_condition_bot_2 import ConditionPlayer\n",
    "from bots.botDenis import GloomCha\n",
    "from bots.forl_condition_bot import HonestStatPlayer\n",
    "from bots.fish_player import FishPlayer\n",
    "from bots.fold_player import FoldPlayer\n",
    "from copy import deepcopy\n",
    "import scipy.stats as sps\n",
    "import keras.backend as K\n",
    "import pandas as pd\n",
    "import numpy as np\n",
    "import matplotlib.pyplot as plt\n",
    "from tqdm import tqdm\n",
    "%matplotlib inline"
   ]
  },
  {
   "cell_type": "code",
   "execution_count": 2,
   "metadata": {
    "collapsed": true
   },
   "outputs": [],
   "source": [
    "from keras.models import Sequential\n",
    "from keras.layers import Dense\n",
    "from keras.wrappers.scikit_learn import KerasClassifier\n",
    "from keras.utils import np_utils\n",
    "from sklearn.model_selection import cross_val_score\n",
    "from sklearn.model_selection import KFold\n",
    "from sklearn.preprocessing import LabelEncoder\n",
    "from sklearn.pipeline import Pipeline"
   ]
  },
  {
   "cell_type": "code",
   "execution_count": 5,
   "metadata": {},
   "outputs": [],
   "source": [
    "N_RANDOM_PLAYERS = 0\n",
    "\n",
    "config = setup_config(max_round=2, initial_stack=1500, small_blind_amount=15)\n",
    "config.register_player(name=\"foldman\", algorithm=FoldPlayer())\n",
    "config.register_player(name=\"honest\", algorithm=HonestPlayer(200))\n",
    "config.register_player(name=\"honest_modified\", algorithm=HonestModifiedPlayer(200))\n",
    "config.register_player(name=\"fishman\", algorithm=FishPlayer())\n",
    "config.register_player(name=\"botDenis1\", algorithm=GloomCha())\n",
    "config.register_player(name=\"botDenis2\", algorithm=BotDenisPlayer())\n",
    "config.register_player(name=\"conditionPlayer\", algorithm=ConditionPlayer())\n",
    "config.register_player(name=\"koffa\", algorithm=KoffaPlayer())\n",
    "config.register_player(name=\"random\", algorithm=RandomPlayer())\n",
    "\n",
    "for i in range(N_RANDOM_PLAYERS):\n",
    "    config.register_player(name=\"random\" + str(i), algorithm=RandomPlayer())"
   ]
  },
  {
   "cell_type": "code",
   "execution_count": 7,
   "metadata": {
    "scrolled": true
   },
   "outputs": [
    {
     "name": "stderr",
     "output_type": "stream",
     "text": [
      "\n",
      "\n",
      "\n",
      "\n",
      "\n",
      "  0%|          | 0/2 [00:00<?, ?it/s]\u001b[A\n",
      "100%|██████████| 2/2 [00:00<00:00, 19784.45it/s]"
     ]
    },
    {
     "name": "stdout",
     "output_type": "stream",
     "text": [
      "CPU times: user 83.9 ms, sys: 43.4 ms, total: 127 ms\n",
      "Wall time: 5.99 s\n"
     ]
    },
    {
     "name": "stderr",
     "output_type": "stream",
     "text": [
      "\u001b[A"
     ]
    }
   ],
   "source": [
    "%%time\n",
    "from joblib import Parallel, delayed\n",
    "\n",
    "def f(i,config):\n",
    "    return start_poker(config, verbose=0)['players']\n",
    "\n",
    "def get_all_results(config, n_games=1):\n",
    "    players_stack_dict = {}\n",
    "    for player_info in config.players_info:\n",
    "        players_stack_dict[player_info['name']] = []\n",
    "        \n",
    "        \n",
    "    with Parallel(n_jobs=4) as parallel:\n",
    "#     for i in tqdm(range(n_games)):\n",
    "        data = parallel(delayed(f)(i, config) for i in range(n_games))\n",
    "    \n",
    "    for i in tqdm(range(n_games)):\n",
    "        for player_info in data[i]:\n",
    "            players_stack_dict[player_info['name']].append(player_info['stack'])\n",
    "            \n",
    "    return pd.DataFrame(players_stack_dict)\n",
    "\n",
    "res = get_all_results(config, n_games=2)"
   ]
  },
  {
   "cell_type": "code",
   "execution_count": 5,
   "metadata": {},
   "outputs": [
    {
     "data": {
      "text/html": [
       "<div>\n",
       "<style>\n",
       "    .dataframe thead tr:only-child th {\n",
       "        text-align: right;\n",
       "    }\n",
       "\n",
       "    .dataframe thead th {\n",
       "        text-align: left;\n",
       "    }\n",
       "\n",
       "    .dataframe tbody tr th {\n",
       "        vertical-align: top;\n",
       "    }\n",
       "</style>\n",
       "<table border=\"1\" class=\"dataframe\">\n",
       "  <thead>\n",
       "    <tr style=\"text-align: right;\">\n",
       "      <th></th>\n",
       "      <th>botDenis</th>\n",
       "      <th>conditionPlayer</th>\n",
       "      <th>fishman</th>\n",
       "      <th>foldman</th>\n",
       "      <th>honest</th>\n",
       "      <th>random0</th>\n",
       "      <th>random1</th>\n",
       "      <th>random2</th>\n",
       "      <th>random3</th>\n",
       "    </tr>\n",
       "  </thead>\n",
       "  <tbody>\n",
       "    <tr>\n",
       "      <th>0</th>\n",
       "      <td>1485</td>\n",
       "      <td>0</td>\n",
       "      <td>0</td>\n",
       "      <td>1500</td>\n",
       "      <td>1485</td>\n",
       "      <td>490</td>\n",
       "      <td>247</td>\n",
       "      <td>6793</td>\n",
       "      <td>1500</td>\n",
       "    </tr>\n",
       "  </tbody>\n",
       "</table>\n",
       "</div>"
      ],
      "text/plain": [
       "   botDenis  conditionPlayer  fishman  foldman  honest  random0  random1  \\\n",
       "0      1485                0        0     1500    1485      490      247   \n",
       "\n",
       "   random2  random3  \n",
       "0     6793     1500  "
      ]
     },
     "execution_count": 5,
     "metadata": {},
     "output_type": "execute_result"
    }
   ],
   "source": [
    "res"
   ]
  },
  {
   "cell_type": "code",
   "execution_count": null,
   "metadata": {
    "collapsed": true
   },
   "outputs": [],
   "source": [
    "cnt = 0\n",
    "class PrintPlayer(BasePokerPlayer):  # Do not forget to make parent class as \"BasePokerPlayer\"\n",
    "    stats = PlayerStats()\n",
    "    cnt = 0\n",
    "    #  we define the logic to make an action through this method. (so this method would be the core of your AI)\n",
    "    def declare_action(self, valid_actions, hole_card, round_state):\n",
    "        # valid_actions format => [raise_action_info, call_action_info, fold_action_info]\n",
    "        self.stats.update(hole_card, round_state)\n",
    "        print(self.stats.calc_params(hole_card, round_state))\n",
    "        call_action_info = valid_actions[1]\n",
    "        action, amount = call_action_info[\"action\"], call_action_info[\"amount\"]\n",
    "        return action, amount   # action returned here is sent to the poker engine\n",
    "\n",
    "    def receive_game_start_message(self, game_info):\n",
    "        self.stats.init_player_names(game_info)\n",
    "        pass\n",
    "\n",
    "    def receive_round_start_message(self, round_count, hole_card, seats):\n",
    "        pass\n",
    "\n",
    "    def receive_street_start_message(self, street, round_state):\n",
    "        pass\n",
    "\n",
    "    def receive_game_update_message(self, action, round_state):\n",
    "        pass\n",
    "\n",
    "    def receive_round_result_message(self, winners, hand_info, round_state):\n",
    "        pass"
   ]
  },
  {
   "cell_type": "code",
   "execution_count": 6,
   "metadata": {},
   "outputs": [
    {
     "data": {
      "text/html": [
       "<div>\n",
       "<style>\n",
       "    .dataframe thead tr:only-child th {\n",
       "        text-align: right;\n",
       "    }\n",
       "\n",
       "    .dataframe thead th {\n",
       "        text-align: left;\n",
       "    }\n",
       "\n",
       "    .dataframe tbody tr th {\n",
       "        vertical-align: top;\n",
       "    }\n",
       "</style>\n",
       "<table border=\"1\" class=\"dataframe\">\n",
       "  <thead>\n",
       "    <tr style=\"text-align: right;\">\n",
       "      <th></th>\n",
       "      <th>fishman</th>\n",
       "      <th>foldman</th>\n",
       "      <th>honest</th>\n",
       "      <th>random0</th>\n",
       "      <th>random1</th>\n",
       "      <th>random2</th>\n",
       "      <th>random3</th>\n",
       "      <th>random4</th>\n",
       "      <th>random5</th>\n",
       "    </tr>\n",
       "  </thead>\n",
       "  <tbody>\n",
       "    <tr>\n",
       "      <th>count</th>\n",
       "      <td>30.000000</td>\n",
       "      <td>30.000000</td>\n",
       "      <td>30.000000</td>\n",
       "      <td>30.000000</td>\n",
       "      <td>30.000000</td>\n",
       "      <td>30.000000</td>\n",
       "      <td>30.000000</td>\n",
       "      <td>30.000000</td>\n",
       "      <td>30.000000</td>\n",
       "    </tr>\n",
       "    <tr>\n",
       "      <th>mean</th>\n",
       "      <td>4158.633333</td>\n",
       "      <td>887.000000</td>\n",
       "      <td>2133.866667</td>\n",
       "      <td>24.433333</td>\n",
       "      <td>1032.233333</td>\n",
       "      <td>1666.566667</td>\n",
       "      <td>1490.666667</td>\n",
       "      <td>1260.933333</td>\n",
       "      <td>805.866667</td>\n",
       "    </tr>\n",
       "    <tr>\n",
       "      <th>std</th>\n",
       "      <td>5569.237944</td>\n",
       "      <td>106.338756</td>\n",
       "      <td>3427.695272</td>\n",
       "      <td>133.826878</td>\n",
       "      <td>3305.520614</td>\n",
       "      <td>4321.575652</td>\n",
       "      <td>3961.730529</td>\n",
       "      <td>3847.468240</td>\n",
       "      <td>2675.882474</td>\n",
       "    </tr>\n",
       "    <tr>\n",
       "      <th>min</th>\n",
       "      <td>0.000000</td>\n",
       "      <td>555.000000</td>\n",
       "      <td>0.000000</td>\n",
       "      <td>0.000000</td>\n",
       "      <td>0.000000</td>\n",
       "      <td>0.000000</td>\n",
       "      <td>0.000000</td>\n",
       "      <td>0.000000</td>\n",
       "      <td>0.000000</td>\n",
       "    </tr>\n",
       "    <tr>\n",
       "      <th>25%</th>\n",
       "      <td>0.000000</td>\n",
       "      <td>825.000000</td>\n",
       "      <td>0.000000</td>\n",
       "      <td>0.000000</td>\n",
       "      <td>0.000000</td>\n",
       "      <td>0.000000</td>\n",
       "      <td>0.000000</td>\n",
       "      <td>0.000000</td>\n",
       "      <td>0.000000</td>\n",
       "    </tr>\n",
       "    <tr>\n",
       "      <th>50%</th>\n",
       "      <td>0.000000</td>\n",
       "      <td>862.500000</td>\n",
       "      <td>1155.000000</td>\n",
       "      <td>0.000000</td>\n",
       "      <td>0.000000</td>\n",
       "      <td>0.000000</td>\n",
       "      <td>0.000000</td>\n",
       "      <td>0.000000</td>\n",
       "      <td>0.000000</td>\n",
       "    </tr>\n",
       "    <tr>\n",
       "      <th>75%</th>\n",
       "      <td>11102.750000</td>\n",
       "      <td>960.000000</td>\n",
       "      <td>1682.000000</td>\n",
       "      <td>0.000000</td>\n",
       "      <td>0.000000</td>\n",
       "      <td>0.000000</td>\n",
       "      <td>0.000000</td>\n",
       "      <td>0.000000</td>\n",
       "      <td>0.000000</td>\n",
       "    </tr>\n",
       "    <tr>\n",
       "      <th>max</th>\n",
       "      <td>12902.000000</td>\n",
       "      <td>1110.000000</td>\n",
       "      <td>12523.000000</td>\n",
       "      <td>733.000000</td>\n",
       "      <td>12621.000000</td>\n",
       "      <td>12542.000000</td>\n",
       "      <td>12590.000000</td>\n",
       "      <td>12616.000000</td>\n",
       "      <td>12634.000000</td>\n",
       "    </tr>\n",
       "  </tbody>\n",
       "</table>\n",
       "</div>"
      ],
      "text/plain": [
       "            fishman      foldman        honest     random0       random1  \\\n",
       "count     30.000000    30.000000     30.000000   30.000000     30.000000   \n",
       "mean    4158.633333   887.000000   2133.866667   24.433333   1032.233333   \n",
       "std     5569.237944   106.338756   3427.695272  133.826878   3305.520614   \n",
       "min        0.000000   555.000000      0.000000    0.000000      0.000000   \n",
       "25%        0.000000   825.000000      0.000000    0.000000      0.000000   \n",
       "50%        0.000000   862.500000   1155.000000    0.000000      0.000000   \n",
       "75%    11102.750000   960.000000   1682.000000    0.000000      0.000000   \n",
       "max    12902.000000  1110.000000  12523.000000  733.000000  12621.000000   \n",
       "\n",
       "            random2       random3       random4       random5  \n",
       "count     30.000000     30.000000     30.000000     30.000000  \n",
       "mean    1666.566667   1490.666667   1260.933333    805.866667  \n",
       "std     4321.575652   3961.730529   3847.468240   2675.882474  \n",
       "min        0.000000      0.000000      0.000000      0.000000  \n",
       "25%        0.000000      0.000000      0.000000      0.000000  \n",
       "50%        0.000000      0.000000      0.000000      0.000000  \n",
       "75%        0.000000      0.000000      0.000000      0.000000  \n",
       "max    12542.000000  12590.000000  12616.000000  12634.000000  "
      ]
     },
     "execution_count": 6,
     "metadata": {},
     "output_type": "execute_result"
    }
   ],
   "source": [
    "res.describe()"
   ]
  },
  {
   "cell_type": "code",
   "execution_count": 16,
   "metadata": {
    "collapsed": true
   },
   "outputs": [],
   "source": [
    "class RLPokerPlayer(BasePokerPlayer):\n",
    "    def __init__(self, nnet, alpha=0.1, lambda_agr=0.1, lambda_blef=0.1):\n",
    "        super().__init__()\n",
    "        if nnet is None:\n",
    "            raise Exception('Try to use some nnet!')\n",
    "        self.nnet = deepcopy(nnet)\n",
    "        self.alpha = alpha\n",
    "        self.history = {'moves': [], 'states': [], 'prev_stats': [], 'rewards': []}\n",
    "        \n",
    "    def process_current_data(self, hole_card, round_state):\n",
    "        my_pos = round_state['next_player']\n",
    "        n_players = len(round_state['seats'])\n",
    "        community_card = round_state['community_card']\n",
    "        if community_card is None:\n",
    "            community_card = []\n",
    "        cur_round = len(community_card)\n",
    "        all_card = hole_card + community_card\n",
    "        converted_cards = [(x.suit, x.rank) for x in gen_cards(all_card)]\n",
    "        cards_raw = np.zeros(35)\n",
    "        suit_class = (lambda x: int(np.log2(x)) - 1)\n",
    "        for i in range(len(all_card)):\n",
    "            cards_raw[i*5] = converted_cards[i][1]\n",
    "            cards_raw[i*5 + suit_class(converted_cards[i][0])] = 1\n",
    "        real_seat = np.roll(np.arange(n_players), n_players - my_pos)\n",
    "        actives = np.array([int(player['state'] != 'folded') for player in round_state['seats']])\n",
    "        stacks = np.array([player['stack'] for player in round_state['seats']])\n",
    "        \n",
    "        self.history['states'].append\n",
    "        \n",
    "    def declare_action(self, valid_actions, hole_card, round_state):\n",
    "        cur_data = self.process_current_data(hole_card, round_state)\n",
    "        probs = self.nnet.predict(cur_data.reshape((1,-1)))\n",
    "        probs = [(probs[i], i) for i in range(len(probs))]\n",
    "        probs = sorted(probs)\n",
    "        best = probs[-1]\n",
    "        if best[1] < 2:\n",
    "            call_action_info = valid_actions[best[1]]\n",
    "            action, amount = call_action_info[\"action\"], call_action_info[\"amount\"]\n",
    "        if best[1] >= 2:\n",
    "            if valid_actions[2]['min'] != -1:\n",
    "                call_action_info = valid_actions[2]\n",
    "                action, amount = call_action_info[\"action\"], call_action_info[\"amount\"][\"min\"] \\\n",
    "                    if best[1] else min(2 * call_action_info[\"amount\"][\"min\"], call_action_info[\"amount\"][\"max\"])\n",
    "            else:\n",
    "                best[1] = 1\n",
    "                call_action_info = valid_actions[1]\n",
    "                action, amount = call_action_info[\"action\"], call_action_info[\"amount\"]\n",
    "        \n",
    "        self.history['moves'].append(best[1])\n",
    "        return action, amount\n",
    "        \n",
    "    def receive_game_start_message(self, game_info):\n",
    "        self.n_player = game_info[\"player_num\"]\n",
    "        self.game_rule = game_info['rule']\n",
    "\n",
    "    def receive_round_start_message(self, round_count, hole_card, seats):\n",
    "        pass\n",
    "\n",
    "    def receive_street_start_message(self, street, round_state):\n",
    "        pass\n",
    "\n",
    "    def receive_game_update_message(self, action, round_state):\n",
    "        if sps.bernoulli\n",
    "\n",
    "    def receive_round_result_message(self, winners, hand_info, round_state):\n",
    "        pass"
   ]
  },
  {
   "cell_type": "code",
   "execution_count": 38,
   "metadata": {
    "collapsed": true
   },
   "outputs": [],
   "source": [
    "def baseline_model():\n",
    "    # create model\n",
    "    model = Sequential()\n",
    "    model.add(Dense(10, input_dim=8, activation='relu'))\n",
    "    model.add(Dense(3, activation='softmax'))\n",
    "    # Compile model\n",
    "    model.compile(loss='categorical_crossentropy', optimizer='adam', metrics=['accuracy'])\n",
    "    return model"
   ]
  },
  {
   "cell_type": "code",
   "execution_count": 39,
   "metadata": {
    "collapsed": true
   },
   "outputs": [],
   "source": [
    "m = baseline_model()"
   ]
  },
  {
   "cell_type": "code",
   "execution_count": 40,
   "metadata": {
    "collapsed": true
   },
   "outputs": [],
   "source": [
    "X = sps.bernoulli.rvs(size=(32,8),p=0.5)"
   ]
  },
  {
   "cell_type": "code",
   "execution_count": 43,
   "metadata": {
    "collapsed": true
   },
   "outputs": [],
   "source": [
    "y = np.zeros((32,3))\n",
    "Z = sps.randint.rvs(size=32,low=0,high=3)\n",
    "for i in range(len(y)):\n",
    "    y[i][Z[i]] = 1"
   ]
  },
  {
   "cell_type": "code",
   "execution_count": 45,
   "metadata": {},
   "outputs": [
    {
     "name": "stdout",
     "output_type": "stream",
     "text": [
      "Epoch 1/10\n",
      "32/32 [==============================] - 0s - loss: 1.1557 - acc: 0.2500\n",
      "Epoch 2/10\n",
      "32/32 [==============================] - 0s - loss: 1.1526 - acc: 0.2500\n",
      "Epoch 3/10\n",
      "32/32 [==============================] - 0s - loss: 1.1495 - acc: 0.2188\n",
      "Epoch 4/10\n",
      "32/32 [==============================] - 0s - loss: 1.1464 - acc: 0.2188\n",
      "Epoch 5/10\n",
      "32/32 [==============================] - 0s - loss: 1.1434 - acc: 0.1875\n",
      "Epoch 6/10\n",
      "32/32 [==============================] - 0s - loss: 1.1404 - acc: 0.1875\n",
      "Epoch 7/10\n",
      "32/32 [==============================] - 0s - loss: 1.1373 - acc: 0.1875\n",
      "Epoch 8/10\n",
      "32/32 [==============================] - 0s - loss: 1.1344 - acc: 0.2500\n",
      "Epoch 9/10\n",
      "32/32 [==============================] - 0s - loss: 1.1315 - acc: 0.2500\n",
      "Epoch 10/10\n",
      "32/32 [==============================] - 0s - loss: 1.1287 - acc: 0.2500\n"
     ]
    },
    {
     "data": {
      "text/plain": [
       "<keras.callbacks.History at 0x1187b4e48>"
      ]
     },
     "execution_count": 45,
     "metadata": {},
     "output_type": "execute_result"
    }
   ],
   "source": [
    "m.fit(X,y,batch_size=32, epochs=10, verbose=1)"
   ]
  },
  {
   "cell_type": "code",
   "execution_count": 54,
   "metadata": {},
   "outputs": [
    {
     "data": {
      "text/plain": [
       "array([[ 0.33000377,  0.34456059,  0.3254357 ]], dtype=float32)"
      ]
     },
     "execution_count": 54,
     "metadata": {},
     "output_type": "execute_result"
    }
   ],
   "source": [
    "m.predict(np.ones(8).reshape(1,-1))"
   ]
  },
  {
   "cell_type": "code",
   "execution_count": 77,
   "metadata": {
    "collapsed": true
   },
   "outputs": [],
   "source": [
    "a = [[1,2],[5,-1],[5,2],[-1,110]]"
   ]
  },
  {
   "cell_type": "code",
   "execution_count": 78,
   "metadata": {},
   "outputs": [
    {
     "data": {
      "text/plain": [
       "[[-1, 110], [1, 2], [5, -1], [5, 2]]"
      ]
     },
     "execution_count": 78,
     "metadata": {},
     "output_type": "execute_result"
    }
   ],
   "source": [
    "sorted(a)"
   ]
  },
  {
   "cell_type": "code",
   "execution_count": 73,
   "metadata": {
    "collapsed": true
   },
   "outputs": [],
   "source": [
    "a = np.arange(8).reshape((4,2))"
   ]
  },
  {
   "cell_type": "code",
   "execution_count": 76,
   "metadata": {},
   "outputs": [
    {
     "ename": "ValueError",
     "evalue": "The truth value of an array with more than one element is ambiguous. Use a.any() or a.all()",
     "output_type": "error",
     "traceback": [
      "\u001b[0;31m---------------------------------------------------------------------------\u001b[0m",
      "\u001b[0;31mValueError\u001b[0m                                Traceback (most recent call last)",
      "\u001b[0;32m<ipython-input-76-352ca322425e>\u001b[0m in \u001b[0;36m<module>\u001b[0;34m()\u001b[0m\n\u001b[0;32m----> 1\u001b[0;31m \u001b[0msorted\u001b[0m\u001b[0;34m(\u001b[0m\u001b[0mlist\u001b[0m\u001b[0;34m(\u001b[0m\u001b[0ma\u001b[0m\u001b[0;34m)\u001b[0m\u001b[0;34m)\u001b[0m\u001b[0;34m\u001b[0m\u001b[0m\n\u001b[0m",
      "\u001b[0;31mValueError\u001b[0m: The truth value of an array with more than one element is ambiguous. Use a.any() or a.all()"
     ]
    }
   ],
   "source": [
    "sorted(a)"
   ]
  },
  {
   "cell_type": "code",
   "execution_count": 38,
   "metadata": {
    "collapsed": true
   },
   "outputs": [],
   "source": [
    "hands_train = pd.DataFrame.from_csv('poker-hand-training-true.data.txt', header=None)\n",
    "hands_test = pd.DataFrame.from_csv('poker-hand-testing.data.txt', header=None)"
   ]
  },
  {
   "cell_type": "code",
   "execution_count": 39,
   "metadata": {},
   "outputs": [
    {
     "data": {
      "text/plain": [
       "(25010, 10)"
      ]
     },
     "execution_count": 39,
     "metadata": {},
     "output_type": "execute_result"
    }
   ],
   "source": [
    "hands_train.shape"
   ]
  },
  {
   "cell_type": "code",
   "execution_count": 42,
   "metadata": {
    "collapsed": true
   },
   "outputs": [],
   "source": [
    "y_train = hands_train[10]\n",
    "y_test = hands_test[10]\n",
    "X_train = hands_train.drop(10,axis=1)\n",
    "X_test = hands_test.drop(10,axis=1)"
   ]
  },
  {
   "cell_type": "code",
   "execution_count": 43,
   "metadata": {},
   "outputs": [
    {
     "data": {
      "text/plain": [
       "(25010, 9)"
      ]
     },
     "execution_count": 43,
     "metadata": {},
     "output_type": "execute_result"
    }
   ],
   "source": []
  },
  {
   "cell_type": "code",
   "execution_count": 13,
   "metadata": {
    "collapsed": true
   },
   "outputs": [],
   "source": [
    "import xgboost as xgb"
   ]
  },
  {
   "cell_type": "code",
   "execution_count": 48,
   "metadata": {},
   "outputs": [
    {
     "data": {
      "text/plain": [
       "((25010, 9), (25010,))"
      ]
     },
     "execution_count": 48,
     "metadata": {},
     "output_type": "execute_result"
    }
   ],
   "source": [
    "X_train.shape, y_train.shape"
   ]
  },
  {
   "cell_type": "code",
   "execution_count": 56,
   "metadata": {},
   "outputs": [
    {
     "name": "stdout",
     "output_type": "stream",
     "text": [
      "CPU times: user 14.2 s, sys: 64.9 ms, total: 14.2 s\n",
      "Wall time: 14.8 s\n"
     ]
    }
   ],
   "source": [
    "%%time\n",
    "model = xgb.XGBClassifier(\n",
    "                            n_estimators=200, \n",
    "                            max_depth=3, \n",
    "                            learning_rate=1e-2,\n",
    "                            colsample_bytree=0.5,\n",
    "                            sublample=0.5,\n",
    "                            random_seed=1,\n",
    "                            n_threads=4,\n",
    "                            tree_method='hist',\n",
    "                            objective='multi:softmax',\n",
    "                        ).fit(X_train, y_train, verbose=2,                    \n",
    "                             )"
   ]
  },
  {
   "cell_type": "code",
   "execution_count": 57,
   "metadata": {
    "collapsed": true
   },
   "outputs": [],
   "source": [
    "from sklearn.metrics import accuracy_score"
   ]
  },
  {
   "cell_type": "code",
   "execution_count": 58,
   "metadata": {},
   "outputs": [
    {
     "data": {
      "text/plain": [
       "0.52325900000000003"
      ]
     },
     "execution_count": 58,
     "metadata": {},
     "output_type": "execute_result"
    }
   ],
   "source": [
    "accuracy_score(model.predict(X_test), y_test)"
   ]
  },
  {
   "cell_type": "code",
   "execution_count": 60,
   "metadata": {
    "collapsed": true
   },
   "outputs": [],
   "source": [
    "p = model.predict(X_test)"
   ]
  },
  {
   "cell_type": "code",
   "execution_count": 63,
   "metadata": {},
   "outputs": [
    {
     "data": {
      "text/plain": [
       "(43154, (1000000,))"
      ]
     },
     "execution_count": 63,
     "metadata": {},
     "output_type": "execute_result"
    }
   ],
   "source": [
    "np.sum(p), p.shape"
   ]
  },
  {
   "cell_type": "code",
   "execution_count": null,
   "metadata": {
    "collapsed": true
   },
   "outputs": [],
   "source": [
    "DefaultBotPark = [RandomPlayer, HonestPlayer, FishPlayer, \n",
    "           BotDenisPlayer, HonestModifiedPlayer, ConditionPlayer, \n",
    "           GloomCha, Coffa, HonestStatPlayer,\n",
    "          ]"
   ]
  },
  {
   "cell_type": "code",
   "execution_count": null,
   "metadata": {
    "collapsed": true
   },
   "outputs": [],
   "source": [
    "N = 100"
   ]
  },
  {
   "cell_type": "code",
   "execution_count": null,
   "metadata": {
    "collapsed": true
   },
   "outputs": [],
   "source": [
    "BotPark = DefaultbotPark\n",
    "for i in tqdm(range(N)):\n",
    "    "
   ]
  }
 ],
 "metadata": {
  "kernelspec": {
   "display_name": "Python 3",
   "language": "python",
   "name": "python3"
  },
  "language_info": {
   "codemirror_mode": {
    "name": "ipython",
    "version": 3
   },
   "file_extension": ".py",
   "mimetype": "text/x-python",
   "name": "python",
   "nbconvert_exporter": "python",
   "pygments_lexer": "ipython3",
   "version": "3.6.1"
  }
 },
 "nbformat": 4,
 "nbformat_minor": 1
}
